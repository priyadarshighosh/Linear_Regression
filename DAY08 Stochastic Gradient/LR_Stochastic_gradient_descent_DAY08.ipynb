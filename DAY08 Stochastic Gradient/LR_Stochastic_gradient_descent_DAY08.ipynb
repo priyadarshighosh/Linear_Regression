{
  "nbformat": 4,
  "nbformat_minor": 0,
  "metadata": {
    "colab": {
      "private_outputs": true,
      "provenance": []
    },
    "kernelspec": {
      "name": "python3",
      "display_name": "Python 3"
    },
    "language_info": {
      "name": "python"
    }
  },
  "cells": [
    {
      "cell_type": "markdown",
      "source": [
        "# Stochastic Gradient Descent\n",
        "\n",
        "---\n"
      ],
      "metadata": {
        "id": "u93QB4H8gs0F"
      }
    },
    {
      "cell_type": "markdown",
      "source": [
        "IMPORTING DATA SCIENCE LIBRARIES"
      ],
      "metadata": {
        "id": "I2xjrloHcxJQ"
      }
    },
    {
      "cell_type": "code",
      "execution_count": null,
      "metadata": {
        "id": "JF9RMWnFZYq3"
      },
      "outputs": [],
      "source": [
        "import numpy as np\n",
        "import pandas as pd\n",
        "import matplotlib.pyplot as plt\n",
        "import seaborn as sns\n"
      ]
    },
    {
      "cell_type": "markdown",
      "source": [
        "IMPORT MACHINE LEARNING LIBRARIES AND CLASSES"
      ],
      "metadata": {
        "id": "-FDeOVL3M7rU"
      }
    },
    {
      "cell_type": "code",
      "source": [
        "from sklearn.model_selection import train_test_split               #for splitting the data into test and training data\n",
        "from sklearn.compose import ColumnTransformer                       #for transforming the columns\n",
        "from sklearn.impute import SimpleImputer                             #for imputing the missing values\n",
        "from sklearn.preprocessing import OneHotEncoder                      #one hot encoding\n",
        "from sklearn.preprocessing import MinMaxScaler                        #standard scaling\n",
        "\n",
        "from sklearn.datasets import load_diabetes\n",
        "\n",
        "from sklearn.datasets import make_regression\n",
        "\n",
        "import plotly.express as px\n",
        "import plotly.graph_objects as go\n",
        "\n",
        "\n",
        "from sklearn.model_selection import train_test_split\n",
        "from sklearn.metrics import accuracy_score                 # for accuracy score\n",
        "from sklearn.model_selection import cross_val_score        # for cross validation score\n",
        "\n",
        "from sklearn.linear_model import LinearRegression # Import the LinearRegression class\n",
        "from sklearn.metrics import mean_squared_error, r2_score"
      ],
      "metadata": {
        "id": "Y208GDIXgEai"
      },
      "execution_count": null,
      "outputs": []
    },
    {
      "cell_type": "markdown",
      "source": [
        "# Loading and Information about the Dataset"
      ],
      "metadata": {
        "id": "XTPRT3iy9EuI"
      }
    },
    {
      "cell_type": "code",
      "source": [
        "X , y = load_diabetes(return_X_y=True)"
      ],
      "metadata": {
        "id": "4W4WSC5ZFgmb"
      },
      "execution_count": null,
      "outputs": []
    },
    {
      "cell_type": "code",
      "source": [
        "X.shape"
      ],
      "metadata": {
        "id": "g_6uIE9T-d8D"
      },
      "execution_count": null,
      "outputs": []
    },
    {
      "cell_type": "code",
      "source": [
        "X"
      ],
      "metadata": {
        "id": "N3tKqqgUAt1H",
        "collapsed": true
      },
      "execution_count": null,
      "outputs": []
    },
    {
      "cell_type": "code",
      "source": [
        "y.shape"
      ],
      "metadata": {
        "id": "AOA5LU0Q-f7T"
      },
      "execution_count": null,
      "outputs": []
    },
    {
      "cell_type": "code",
      "source": [
        "y"
      ],
      "metadata": {
        "id": "7h2fSx4aAx_v",
        "collapsed": true
      },
      "execution_count": null,
      "outputs": []
    },
    {
      "cell_type": "code",
      "source": [
        "X_train , X_test , y_train , y_test = train_test_split(X , y , test_size=0.2 , random_state=2)  # splitting the data into test and training data"
      ],
      "metadata": {
        "id": "KXTH__L2fIV9"
      },
      "execution_count": null,
      "outputs": []
    },
    {
      "cell_type": "code",
      "source": [
        "X_train.shape"
      ],
      "metadata": {
        "id": "fo3zzFwykcyf"
      },
      "execution_count": null,
      "outputs": []
    },
    {
      "cell_type": "markdown",
      "source": [
        "#  Stochastic Gradient Descent REGRESSION"
      ],
      "metadata": {
        "id": "a292BR21Nn2H"
      }
    },
    {
      "cell_type": "code",
      "source": [
        "class SGDRegressor:\n",
        "\n",
        "  def __init__(self , learning_rate=0.01 , epochs=100):     # we are initializing the values as random weird values\n",
        "\n",
        "\n",
        "      self.coef_ = None\n",
        "      self.intercept_ = None\n",
        "\n",
        "      self.lr = learning_rate\n",
        "      self.epochs = epochs\n",
        "\n",
        "  def fit(self, X , y ):\n",
        "        # we are initializing the coefficients\n",
        "      self.intercept_  = 0\n",
        "      self.coef_ = np.ones(X_train.shape[1])\n",
        "\n",
        "      for i in range (self.epochs):\n",
        "        for j in range(X_train.shape[0]):\n",
        "\n",
        "          idx = np.random.randint(0 , X_train.shape[0])  # idx is the row that we are selecting for the computation to take place\n",
        "\n",
        "          y_hat = np.dot(X_train[idx] , self.coef_) + self.intercept_\n",
        "\n",
        "\n",
        "          intercept_der = -2 * (y_train[idx] - y_hat)   # calculating the intercept derivative\n",
        "          self.intercept_ = self.intercept_ - (self.lr * intercept_der)\n",
        "\n",
        "\n",
        "          coef_der = -2 * np.dot((y_train[idx] - y_hat) , X_train[idx])  # calculating the coefficient derivative\n",
        "          self.coef_ = self.coef_ - (self.lr * coef_der)\n",
        "\n",
        "\n",
        "\n",
        "      print(self.intercept_ , self.coef_)\n",
        "\n",
        "  def predict(self,X_test):\n",
        "      return np.dot(X_test , self.coef_) + self.intercept_ # this is the prediction of the data that we gonna pass in the form of X_train and Y_train\n",
        "\n"
      ],
      "metadata": {
        "id": "3XYkxEJTnRvJ"
      },
      "execution_count": null,
      "outputs": []
    },
    {
      "cell_type": "markdown",
      "source": [
        "Making an object of the GD Regressor Class\n"
      ],
      "metadata": {
        "id": "SBNF4qvflaIO"
      }
    },
    {
      "cell_type": "code",
      "source": [
        "sgd = SGDRegressor(epochs =150 , learning_rate = 0.01 )"
      ],
      "metadata": {
        "id": "Chvd2JO6lj7Z"
      },
      "execution_count": null,
      "outputs": []
    },
    {
      "cell_type": "code",
      "source": [
        "sgd.fit (X_train , y_train)"
      ],
      "metadata": {
        "collapsed": true,
        "id": "wmhKD8DvlmxA"
      },
      "execution_count": null,
      "outputs": []
    },
    {
      "cell_type": "code",
      "source": [
        "y_pred = sgd.predict(X_test)"
      ],
      "metadata": {
        "id": "XsDLz4Kbnbxa"
      },
      "execution_count": null,
      "outputs": []
    },
    {
      "cell_type": "code",
      "source": [
        "r2_score(y_test , y_pred)"
      ],
      "metadata": {
        "id": "R4EhLg4Epd5m"
      },
      "execution_count": null,
      "outputs": []
    },
    {
      "cell_type": "markdown",
      "source": [
        "# Linear Regression"
      ],
      "metadata": {
        "id": "TXpeuuZreukF"
      }
    },
    {
      "cell_type": "code",
      "source": [
        "reg = LinearRegression()\n",
        "reg.fit(X_train, y_train)"
      ],
      "metadata": {
        "id": "1_eHQIdvexrE"
      },
      "execution_count": null,
      "outputs": []
    },
    {
      "cell_type": "code",
      "source": [
        "print (reg.coef_)\n",
        "print (reg.intercept_)"
      ],
      "metadata": {
        "id": "FzyBNnlRfbj4"
      },
      "execution_count": null,
      "outputs": []
    },
    {
      "cell_type": "code",
      "source": [
        "y_pred = reg.predict(X_test)\n",
        "r2_score(y_test, y_pred)"
      ],
      "metadata": {
        "id": "KdHbkEmPf4hD"
      },
      "execution_count": null,
      "outputs": []
    }
  ]
}