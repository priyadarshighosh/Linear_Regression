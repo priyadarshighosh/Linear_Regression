{
  "nbformat": 4,
  "nbformat_minor": 0,
  "metadata": {
    "colab": {
      "private_outputs": true,
      "provenance": []
    },
    "kernelspec": {
      "name": "python3",
      "display_name": "Python 3"
    },
    "language_info": {
      "name": "python"
    }
  },
  "cells": [
    {
      "cell_type": "markdown",
      "source": [
        "# Mathematical Formulation for Simple Linear Regression\n",
        "\n",
        "---\n"
      ],
      "metadata": {
        "id": "u93QB4H8gs0F"
      }
    },
    {
      "cell_type": "markdown",
      "source": [
        "IMPORTING DATA SCIENCE LIBRARIES"
      ],
      "metadata": {
        "id": "I2xjrloHcxJQ"
      }
    },
    {
      "cell_type": "code",
      "execution_count": null,
      "metadata": {
        "id": "JF9RMWnFZYq3"
      },
      "outputs": [],
      "source": [
        "import numpy as np\n",
        "import pandas as pd\n",
        "import matplotlib.pyplot as plt\n",
        "import seaborn as sns\n"
      ]
    },
    {
      "cell_type": "markdown",
      "source": [
        "IMPORT MACHINE LEARNING LIBRARIES AND CLASSES"
      ],
      "metadata": {
        "id": "-FDeOVL3M7rU"
      }
    },
    {
      "cell_type": "code",
      "source": [
        "\n",
        "from sklearn.model_selection import train_test_split               #for splitting the data into test and training data\n",
        "from sklearn.compose import ColumnTransformer                       #for transforming the columns\n",
        "from sklearn.impute import SimpleImputer                             #for imputing the missing values\n",
        "from sklearn.preprocessing import OneHotEncoder                      #one hot encoding\n",
        "from sklearn.preprocessing import MinMaxScaler                        #standard scaling\n",
        "\n",
        "\n",
        "from sklearn.metrics import accuracy_score                 # for accuracy score\n",
        "from sklearn.model_selection import cross_val_score        # for cross validation score\n"
      ],
      "metadata": {
        "id": "TaUQd0m-afNa"
      },
      "execution_count": null,
      "outputs": []
    },
    {
      "cell_type": "markdown",
      "source": [
        "# Our own  Class and methods"
      ],
      "metadata": {
        "id": "yxeRmgxw9TBq"
      }
    },
    {
      "cell_type": "code",
      "source": [
        "from ast import Num\n",
        "class MyLR:\n",
        "\n",
        "      def __init__(self):             # Default constructor where the value of m and b will be initialized as  0\n",
        "          self.m = None\n",
        "          self.b = None\n",
        "\n",
        "      def fit(self,X_train,y_train):      # fitting the value of the X_train , y_train in the\n",
        "\n",
        "          num = 0\n",
        "          dem =  0\n",
        "          #for i in range(X_train.shape[0]):\n",
        "\n",
        "          # num = num  +  ((X_train[i] -  X_train.mean())*(y_train[i] - y_train.mean()))      # finding the numerator for m\n",
        "           #dem = dem  +  ((X_train[i] -  X_train.mean())*(X_train[i] -  X_train.mean()))     # finding the denominator for m\n",
        "\n",
        "          # Use .iloc to access rows by position\n",
        "          for i in range(X_train.shape[0]):\n",
        "\n",
        "           num = num  +  ((X_train.iloc[i] -  X_train.mean())*(y_train.iloc[i] - y_train.mean()))      # finding the numerator for m\n",
        "           dem = dem  +  ((X_train.iloc[i] -  X_train.mean())*(X_train.iloc[i] -  X_train.mean()))     # finding the denominator for m\n",
        "\n",
        "\n",
        "          self.m = num/dem                                         # Calculating  the m\n",
        "\n",
        "\n",
        "          self.b = y_train.mean() - (self.m * X_train.mean())       # calculating the  b\n",
        "\n",
        "          print(self.m)\n",
        "          print(self.b)\n",
        "\n",
        "\n",
        "      def predict(self,X_test):\n",
        "\n",
        "          print(X_test)\n",
        "          return self.m*X_test + self.b"
      ],
      "metadata": {
        "id": "MhBQAPGI8xA2"
      },
      "execution_count": null,
      "outputs": []
    },
    {
      "cell_type": "code",
      "source": [
        "from google.colab import files    # we are importing the file from the device\n",
        "uploaded = files.upload()"
      ],
      "metadata": {
        "id": "LyA9ckDSZ1Ra"
      },
      "execution_count": null,
      "outputs": []
    },
    {
      "cell_type": "code",
      "source": [
        "df= pd.read_csv('placement (2).csv', usecols =['cgpa','package'])   #fitting the data in the df dataframe\n",
        "df.head()"
      ],
      "metadata": {
        "id": "paRuHdlDaWqd"
      },
      "execution_count": null,
      "outputs": []
    },
    {
      "cell_type": "code",
      "source": [
        "df.shape"
      ],
      "metadata": {
        "id": "RfJD6TjF3zNm"
      },
      "execution_count": null,
      "outputs": []
    },
    {
      "cell_type": "code",
      "source": [
        "df.info()"
      ],
      "metadata": {
        "id": "wCHVmYR_fag7"
      },
      "execution_count": null,
      "outputs": []
    },
    {
      "cell_type": "code",
      "source": [
        "df.describe()"
      ],
      "metadata": {
        "id": "UbV7iabMfcp3"
      },
      "execution_count": null,
      "outputs": []
    },
    {
      "cell_type": "code",
      "source": [
        "df.isnull().mean()*100"
      ],
      "metadata": {
        "id": "nrUIXvhGfh6_"
      },
      "execution_count": null,
      "outputs": []
    },
    {
      "cell_type": "code",
      "source": [
        "df\n"
      ],
      "metadata": {
        "id": "_9shwYygXk5n"
      },
      "execution_count": null,
      "outputs": []
    },
    {
      "cell_type": "markdown",
      "source": [
        "# Plotting the graph for Linear Regression"
      ],
      "metadata": {
        "id": "lqwR9UULYn3C"
      }
    },
    {
      "cell_type": "code",
      "source": [
        "#Plotting the graph for Cgpa vs package graph\n",
        "plt.figure(figsize=(12,10))\n",
        "\n",
        "plt.title('CGPA vs PACKAGE')\n",
        "plt.xlabel('CGPA')\n",
        "plt.ylabel('PACKAGE')\n",
        "plt.scatter(df['cgpa'],df['package']  ,color='red')\n",
        "plt.show()\n",
        "\n",
        "\n",
        "\n",
        "plt.show()"
      ],
      "metadata": {
        "id": "YI7uC7n4Yso5"
      },
      "execution_count": null,
      "outputs": []
    },
    {
      "cell_type": "markdown",
      "source": [
        "# TRAIN / TEST SPLIT"
      ],
      "metadata": {
        "id": "y_2PO5FaLyde"
      }
    },
    {
      "cell_type": "code",
      "source": [
        "X = df['cgpa']\n",
        "y = df['package']"
      ],
      "metadata": {
        "id": "UwtdVTetMEyj"
      },
      "execution_count": null,
      "outputs": []
    },
    {
      "cell_type": "code",
      "source": [
        "X_train , X_test , y_train , y_test = train_test_split(X,y,test_size=0.2,random_state=2)"
      ],
      "metadata": {
        "id": "Z1md4tgWMiOW"
      },
      "execution_count": null,
      "outputs": []
    },
    {
      "cell_type": "code",
      "source": [
        "X_train.shape"
      ],
      "metadata": {
        "id": "RN4BfrjJ-NyH"
      },
      "execution_count": null,
      "outputs": []
    },
    {
      "cell_type": "markdown",
      "source": [
        "# Mathematically DOing the Linear Regression using our own Function"
      ],
      "metadata": {
        "id": "EDcSQ66m-Tji"
      }
    },
    {
      "cell_type": "markdown",
      "source": [
        "We are fitting the data in our own function"
      ],
      "metadata": {
        "id": "mpbqeSjK-qw5"
      }
    },
    {
      "cell_type": "code",
      "source": [
        "lr= MyLR()"
      ],
      "metadata": {
        "id": "gYDqTqDa-bSz"
      },
      "execution_count": null,
      "outputs": []
    },
    {
      "cell_type": "markdown",
      "source": [
        "Calculating the M and B"
      ],
      "metadata": {
        "id": "ku401993-ubs"
      }
    },
    {
      "cell_type": "code",
      "source": [
        "lr.fit(X_train,y_train)"
      ],
      "metadata": {
        "id": "-52cT3IxSHph"
      },
      "execution_count": null,
      "outputs": []
    },
    {
      "cell_type": "markdown",
      "source": [
        "# Testing our Mathematical Model"
      ],
      "metadata": {
        "id": "1HZvjAiJUp-P"
      }
    },
    {
      "cell_type": "markdown",
      "source": [
        "WE reshaped the array as it takes 2D array as Minimum"
      ],
      "metadata": {
        "id": "r_Lpg3YrOklC"
      }
    },
    {
      "cell_type": "code",
      "source": [
        "X_test"
      ],
      "metadata": {
        "collapsed": true,
        "id": "2xUhSbHDOxCx"
      },
      "execution_count": null,
      "outputs": []
    },
    {
      "cell_type": "code",
      "source": [
        "y_test"
      ],
      "metadata": {
        "collapsed": true,
        "id": "NyoJeuHyP6mF"
      },
      "execution_count": null,
      "outputs": []
    },
    {
      "cell_type": "markdown",
      "source": [
        "We are fitted the TRAINING DATA INTO THE LINEAR REGRESSION MODEL"
      ],
      "metadata": {
        "id": "_CH08GQTPMkS"
      }
    },
    {
      "cell_type": "markdown",
      "source": [
        "NOW WE WILL GIVE IT THE TEST DATA AND PREDICT THE PACKAGE OF THE FIRST STUDENT"
      ],
      "metadata": {
        "id": "wXio6cBCPUdC"
      }
    },
    {
      "cell_type": "code",
      "source": [
        "print (lr.predict(X_test.iloc[0])) #.values.reshape(1,1))     #We reshaped here and found the prediction for the first data"
      ],
      "metadata": {
        "id": "5r2rVA8jO10G"
      },
      "execution_count": null,
      "outputs": []
    },
    {
      "cell_type": "code",
      "source": [
        "lr.predict(X_test.iloc[1])"
      ],
      "metadata": {
        "id": "eqN3k8mfPwfQ"
      },
      "execution_count": null,
      "outputs": []
    },
    {
      "cell_type": "code",
      "source": [
        "lr.predict(X_test.iloc[2])"
      ],
      "metadata": {
        "id": "V4JWpTgZP3Ip"
      },
      "execution_count": null,
      "outputs": []
    },
    {
      "cell_type": "markdown",
      "source": [
        "# Plotting the Line"
      ],
      "metadata": {
        "id": "EAEVPYyTSYkN"
      }
    },
    {
      "cell_type": "code",
      "source": [
        "plt.figure(figsize=(12,10))\n",
        "\n",
        "plt.title('CGPA vs PACKAGE')\n",
        "plt.xlabel('CGPA')\n",
        "plt.ylabel('PACKAGE')\n",
        "plt.plot(X_train,lr.predict(X_train.values.reshape(-1,1)),color='blue')\n",
        "plt.scatter(df['cgpa'],df['package']  ,color='red')\n",
        "plt.show()\n",
        "\n",
        "\n",
        "\n",
        "\n",
        "plt.show()"
      ],
      "metadata": {
        "id": "jrfeshqpSavL"
      },
      "execution_count": null,
      "outputs": []
    }
  ]
}