{
  "nbformat": 4,
  "nbformat_minor": 0,
  "metadata": {
    "colab": {
      "private_outputs": true,
      "provenance": []
    },
    "kernelspec": {
      "name": "python3",
      "display_name": "Python 3"
    },
    "language_info": {
      "name": "python"
    }
  },
  "cells": [
    {
      "cell_type": "markdown",
      "source": [
        "# OLS - ordinary Least Square on Diabetes Dataset\n",
        "\n",
        "---\n"
      ],
      "metadata": {
        "id": "u93QB4H8gs0F"
      }
    },
    {
      "cell_type": "markdown",
      "source": [
        "IMPORTING DATA SCIENCE LIBRARIES"
      ],
      "metadata": {
        "id": "I2xjrloHcxJQ"
      }
    },
    {
      "cell_type": "code",
      "execution_count": null,
      "metadata": {
        "id": "JF9RMWnFZYq3"
      },
      "outputs": [],
      "source": [
        "import numpy as np\n",
        "import pandas as pd\n",
        "import matplotlib.pyplot as plt\n",
        "import seaborn as sns\n"
      ]
    },
    {
      "cell_type": "markdown",
      "source": [
        "IMPORT MACHINE LEARNING LIBRARIES AND CLASSES"
      ],
      "metadata": {
        "id": "-FDeOVL3M7rU"
      }
    },
    {
      "cell_type": "code",
      "source": [
        "\n",
        "from sklearn.model_selection import train_test_split               #for splitting the data into test and training data\n",
        "from sklearn.compose import ColumnTransformer                       #for transforming the columns\n",
        "from sklearn.impute import SimpleImputer                             #for imputing the missing values\n",
        "from sklearn.preprocessing import OneHotEncoder                      #one hot encoding\n",
        "from sklearn.preprocessing import MinMaxScaler                        #standard scaling\n",
        "\n",
        "from sklearn.datasets import load_diabetes\n",
        "\n",
        "from sklearn.datasets import make_regression\n",
        "\n",
        "import plotly.express as px\n",
        "import plotly.graph_objects as go\n",
        "\n",
        "\n",
        "\n",
        "from sklearn.metrics import accuracy_score                 # for accuracy score\n",
        "from sklearn.model_selection import cross_val_score        # for cross validation score\n"
      ],
      "metadata": {
        "id": "TaUQd0m-afNa"
      },
      "execution_count": null,
      "outputs": []
    },
    {
      "cell_type": "markdown",
      "source": [
        "# Loading and Information about the Dataset"
      ],
      "metadata": {
        "id": "XTPRT3iy9EuI"
      }
    },
    {
      "cell_type": "code",
      "source": [
        "#from google.colab import files    # we are importing the file from the device\n",
        "#uploaded = files.upload()\n"
      ],
      "metadata": {
        "id": "d9_tiRIo9Nrv"
      },
      "execution_count": null,
      "outputs": []
    },
    {
      "cell_type": "code",
      "source": [
        "#df = pd.read_csv(\"diabetes.csv\")\n",
        "#df.head()"
      ],
      "metadata": {
        "id": "aMjmpIE_9JRP"
      },
      "execution_count": null,
      "outputs": []
    },
    {
      "cell_type": "code",
      "source": [
        "X , y = load_diabetes(return_X_y=True)"
      ],
      "metadata": {
        "id": "4W4WSC5ZFgmb"
      },
      "execution_count": null,
      "outputs": []
    },
    {
      "cell_type": "code",
      "source": [
        "X.shape"
      ],
      "metadata": {
        "id": "g_6uIE9T-d8D"
      },
      "execution_count": null,
      "outputs": []
    },
    {
      "cell_type": "code",
      "source": [
        "X"
      ],
      "metadata": {
        "id": "N3tKqqgUAt1H"
      },
      "execution_count": null,
      "outputs": []
    },
    {
      "cell_type": "code",
      "source": [
        "y.shape"
      ],
      "metadata": {
        "id": "AOA5LU0Q-f7T"
      },
      "execution_count": null,
      "outputs": []
    },
    {
      "cell_type": "code",
      "source": [
        "y"
      ],
      "metadata": {
        "id": "7h2fSx4aAx_v"
      },
      "execution_count": null,
      "outputs": []
    },
    {
      "cell_type": "markdown",
      "source": [
        "# TRAIN / TEST SPLIT"
      ],
      "metadata": {
        "id": "y_2PO5FaLyde"
      }
    },
    {
      "cell_type": "code",
      "source": [
        "X_train , X_test , y_train , y_test = train_test_split(X,y,test_size=0.2,random_state=2)"
      ],
      "metadata": {
        "id": "Z1md4tgWMiOW"
      },
      "execution_count": null,
      "outputs": []
    },
    {
      "cell_type": "code",
      "source": [
        "X_train.shape"
      ],
      "metadata": {
        "id": "vw6Edj72A9q7"
      },
      "execution_count": null,
      "outputs": []
    },
    {
      "cell_type": "code",
      "source": [
        "X_test.shape"
      ],
      "metadata": {
        "id": "aiWR-wI3BEu8"
      },
      "execution_count": null,
      "outputs": []
    },
    {
      "cell_type": "markdown",
      "source": [
        "#  LINEAR REGRESSION"
      ],
      "metadata": {
        "id": "a292BR21Nn2H"
      }
    },
    {
      "cell_type": "code",
      "source": [
        "from sklearn.linear_model import LinearRegression\n",
        "lr = LinearRegression()             # lr is the linear regression model"
      ],
      "metadata": {
        "id": "wdk4aOhmNtEA"
      },
      "execution_count": null,
      "outputs": []
    },
    {
      "cell_type": "markdown",
      "source": [
        "WE are now Fitting the DATA"
      ],
      "metadata": {
        "id": "SFYfS3RaN6-O"
      }
    },
    {
      "cell_type": "code",
      "source": [
        "lr.fit(X_train,y_train)"
      ],
      "metadata": {
        "id": "Q6fE_SelOAup"
      },
      "execution_count": null,
      "outputs": []
    },
    {
      "cell_type": "markdown",
      "source": [
        "WE reshaped the array as it takes 2D array as Minimum"
      ],
      "metadata": {
        "id": "r_Lpg3YrOklC"
      }
    },
    {
      "cell_type": "code",
      "source": [
        "X_test"
      ],
      "metadata": {
        "collapsed": true,
        "id": "2xUhSbHDOxCx"
      },
      "execution_count": null,
      "outputs": []
    },
    {
      "cell_type": "code",
      "source": [
        "y_test"
      ],
      "metadata": {
        "collapsed": true,
        "id": "NyoJeuHyP6mF"
      },
      "execution_count": null,
      "outputs": []
    },
    {
      "cell_type": "markdown",
      "source": [
        "We are fitted the TRAINING DATA INTO THE LINEAR REGRESSION MODEL"
      ],
      "metadata": {
        "id": "_CH08GQTPMkS"
      }
    },
    {
      "cell_type": "markdown",
      "source": [
        "NOW WE WILL GIVE IT THE TEST DATA AND PREDICT THE PACKAGE OF THE FIRST patient"
      ],
      "metadata": {
        "id": "wXio6cBCPUdC"
      }
    },
    {
      "cell_type": "code",
      "source": [
        "lr.predict(X_test)[0]     #We reshaped here and found the prediction for the first data"
      ],
      "metadata": {
        "id": "5r2rVA8jO10G"
      },
      "execution_count": null,
      "outputs": []
    },
    {
      "cell_type": "code",
      "source": [
        "lr.predict(X_test)[1]"
      ],
      "metadata": {
        "id": "eqN3k8mfPwfQ"
      },
      "execution_count": null,
      "outputs": []
    },
    {
      "cell_type": "code",
      "source": [
        "lr.predict(X_test)[4]"
      ],
      "metadata": {
        "id": "V4JWpTgZP3Ip"
      },
      "execution_count": null,
      "outputs": []
    },
    {
      "cell_type": "markdown",
      "source": [
        "#  Error Analysis / Regression Matrices"
      ],
      "metadata": {
        "id": "BCSbLe05EJDD"
      }
    },
    {
      "cell_type": "code",
      "source": [
        "from sklearn.metrics import mean_absolute_error , mean_squared_error , r2_score\n"
      ],
      "metadata": {
        "id": "qIfLwlb_EY2s"
      },
      "execution_count": null,
      "outputs": []
    },
    {
      "cell_type": "code",
      "source": [
        "y_pred = lr.predict( X_test)   # this will store the predicted value"
      ],
      "metadata": {
        "id": "GmiN0hVmEbku"
      },
      "execution_count": null,
      "outputs": []
    },
    {
      "cell_type": "code",
      "source": [
        "#final = np.where(y_pred > 0.4, 1, 0)"
      ],
      "metadata": {
        "id": "2LRpVyQhDxvV"
      },
      "execution_count": null,
      "outputs": []
    },
    {
      "cell_type": "markdown",
      "source": [
        "MAE"
      ],
      "metadata": {
        "id": "ODH6G9KsFIGk"
      }
    },
    {
      "cell_type": "code",
      "source": [
        "print(\"MAE: \" ,mean_absolute_error(y_test,y_pred))"
      ],
      "metadata": {
        "id": "i5tvi_ehFJqz"
      },
      "execution_count": null,
      "outputs": []
    },
    {
      "cell_type": "markdown",
      "source": [
        "MSE"
      ],
      "metadata": {
        "id": "XEQ9NjKJFeJ0"
      }
    },
    {
      "cell_type": "code",
      "source": [
        "print(\"MSE: \" ,mean_squared_error(y_test,y_pred))"
      ],
      "metadata": {
        "id": "qQeWowOTFemY"
      },
      "execution_count": null,
      "outputs": []
    },
    {
      "cell_type": "markdown",
      "source": [
        "RMSE"
      ],
      "metadata": {
        "id": "AFpIWRVzF8hw"
      }
    },
    {
      "cell_type": "code",
      "source": [
        "print(\"RMSE: \" ,np.sqrt(mean_squared_error(y_test,y_pred)))"
      ],
      "metadata": {
        "id": "LjNvinLLF8Jj"
      },
      "execution_count": null,
      "outputs": []
    },
    {
      "cell_type": "markdown",
      "source": [
        "R2 Score"
      ],
      "metadata": {
        "id": "uncIlqFnFmJ4"
      }
    },
    {
      "cell_type": "code",
      "source": [
        "print(\"R2 Score: \" ,r2_score(y_test,y_pred))\n",
        "r2 = r2_score(y_test,y_pred)"
      ],
      "metadata": {
        "id": "ELgM2EP0Fmmf"
      },
      "execution_count": null,
      "outputs": []
    },
    {
      "cell_type": "markdown",
      "source": [
        "Adjusted  R2 Score"
      ],
      "metadata": {
        "id": "4i_mECIrGJSo"
      }
    },
    {
      "cell_type": "code",
      "source": [
        "X_test.shape"
      ],
      "metadata": {
        "id": "tzJfRSeMHkS7"
      },
      "execution_count": null,
      "outputs": []
    },
    {
      "cell_type": "code",
      "source": [
        "adjusted_R2 = 1 - (1-r2)*(40-1)/(40 -1 -1 )\n",
        "print(\"Adjusted R2 Score: \" ,adjusted_R2 )"
      ],
      "metadata": {
        "id": "jnWb3EVTGJuM"
      },
      "execution_count": null,
      "outputs": []
    },
    {
      "cell_type": "code",
      "source": [
        "lr.coef_"
      ],
      "metadata": {
        "id": "RDLA_yBDFOh_"
      },
      "execution_count": null,
      "outputs": []
    },
    {
      "cell_type": "code",
      "source": [
        "lr.intercept_"
      ],
      "metadata": {
        "id": "qF9TYTUpFRQI"
      },
      "execution_count": null,
      "outputs": []
    }
  ]
}