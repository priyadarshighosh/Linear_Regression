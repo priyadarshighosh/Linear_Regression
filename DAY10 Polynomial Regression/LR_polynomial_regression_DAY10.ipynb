{
  "nbformat": 4,
  "nbformat_minor": 0,
  "metadata": {
    "colab": {
      "private_outputs": true,
      "provenance": []
    },
    "kernelspec": {
      "name": "python3",
      "display_name": "Python 3"
    },
    "language_info": {
      "name": "python"
    }
  },
  "cells": [
    {
      "cell_type": "markdown",
      "source": [
        "# Polynomial Regression\n",
        "\n",
        "---\n"
      ],
      "metadata": {
        "id": "u93QB4H8gs0F"
      }
    },
    {
      "cell_type": "markdown",
      "source": [
        "IMPORTING DATA SCIENCE LIBRARIES"
      ],
      "metadata": {
        "id": "I2xjrloHcxJQ"
      }
    },
    {
      "cell_type": "code",
      "execution_count": null,
      "metadata": {
        "id": "JF9RMWnFZYq3"
      },
      "outputs": [],
      "source": [
        "import numpy as np\n",
        "import pandas as pd\n",
        "import matplotlib.pyplot as plt\n",
        "import seaborn as sns\n"
      ]
    },
    {
      "cell_type": "markdown",
      "source": [
        "IMPORT MACHINE LEARNING LIBRARIES AND CLASSES"
      ],
      "metadata": {
        "id": "-FDeOVL3M7rU"
      }
    },
    {
      "cell_type": "code",
      "source": [
        "from sklearn.model_selection import train_test_split               #for splitting the data into test and training data\n",
        "from sklearn.compose import ColumnTransformer                       #for transforming the columns\n",
        "from sklearn.impute import SimpleImputer                             #for imputing the missing values\n",
        "from sklearn.preprocessing import OneHotEncoder                      #one hot encoding\n",
        "from sklearn.preprocessing import MinMaxScaler                        #standard scaling\n",
        "\n",
        "from sklearn.datasets import load_diabetes\n",
        "\n",
        "from sklearn.datasets import make_regression\n",
        "\n",
        "import plotly.express as px\n",
        "import plotly.graph_objects as go\n",
        "\n",
        "\n",
        "from sklearn.model_selection import train_test_split\n",
        "from sklearn.metrics import accuracy_score                 # for accuracy score\n",
        "from sklearn.model_selection import cross_val_score        # for cross validation score\n",
        "\n",
        "from sklearn.linear_model import LinearRegression # Import the LinearRegression class\n",
        "from sklearn.metrics import mean_squared_error, r2_score\n",
        "from sklearn.preprocessing import PolynomialFeatures , StandardScaler\n",
        "\n",
        "from sklearn.pipeline import Pipeline"
      ],
      "metadata": {
        "id": "Y208GDIXgEai"
      },
      "execution_count": null,
      "outputs": []
    },
    {
      "cell_type": "markdown",
      "source": [
        "# Loading and Information about the Dataset"
      ],
      "metadata": {
        "id": "XTPRT3iy9EuI"
      }
    },
    {
      "cell_type": "code",
      "source": [
        "X = 6 * np.random.rand(200, 1) - 3\n",
        "y = 0.5 * X**2 + X + 2 + np.random.randn(200, 1)"
      ],
      "metadata": {
        "id": "4W4WSC5ZFgmb"
      },
      "execution_count": null,
      "outputs": []
    },
    {
      "cell_type": "code",
      "source": [
        "X.shape"
      ],
      "metadata": {
        "id": "g_6uIE9T-d8D"
      },
      "execution_count": null,
      "outputs": []
    },
    {
      "cell_type": "code",
      "source": [
        "X"
      ],
      "metadata": {
        "id": "N3tKqqgUAt1H",
        "collapsed": true
      },
      "execution_count": null,
      "outputs": []
    },
    {
      "cell_type": "code",
      "source": [
        "y.shape"
      ],
      "metadata": {
        "id": "AOA5LU0Q-f7T"
      },
      "execution_count": null,
      "outputs": []
    },
    {
      "cell_type": "code",
      "source": [
        "y"
      ],
      "metadata": {
        "id": "7h2fSx4aAx_v",
        "collapsed": true
      },
      "execution_count": null,
      "outputs": []
    },
    {
      "cell_type": "code",
      "source": [
        "X_train , X_test , y_train , y_test = train_test_split(X , y , test_size=0.2 , random_state=2)  # splitting the data into test and training data"
      ],
      "metadata": {
        "id": "KXTH__L2fIV9"
      },
      "execution_count": null,
      "outputs": []
    },
    {
      "cell_type": "markdown",
      "source": [
        "#  Plotting the graph"
      ],
      "metadata": {
        "id": "PKaWfsaSu_FQ"
      }
    },
    {
      "cell_type": "code",
      "source": [
        "plt.scatter(X_train , y_train)\n",
        "plt.xlabel('X')\n",
        "plt.ylabel('y')\n",
        "plt.show()"
      ],
      "metadata": {
        "id": "LkrL3PNSvEAU"
      },
      "execution_count": null,
      "outputs": []
    },
    {
      "cell_type": "markdown",
      "source": [
        "# Linear Regression"
      ],
      "metadata": {
        "id": "TXpeuuZreukF"
      }
    },
    {
      "cell_type": "code",
      "source": [
        "reg = LinearRegression()\n",
        "reg.fit(X_train, y_train)   # fitting the data"
      ],
      "metadata": {
        "id": "1_eHQIdvexrE"
      },
      "execution_count": null,
      "outputs": []
    },
    {
      "cell_type": "code",
      "source": [
        "print (reg.coef_)\n",
        "print (reg.intercept_)"
      ],
      "metadata": {
        "id": "FzyBNnlRfbj4"
      },
      "execution_count": null,
      "outputs": []
    },
    {
      "cell_type": "code",
      "source": [
        "y_pred = reg.predict(X_test)      # predicting the y value from x test value  from training the data\n",
        "r2_score(y_test, y_pred)         # calculating the r2 score"
      ],
      "metadata": {
        "id": "KdHbkEmPf4hD"
      },
      "execution_count": null,
      "outputs": []
    },
    {
      "cell_type": "markdown",
      "source": [
        "Plotting the Linear Regression"
      ],
      "metadata": {
        "id": "UaEGke85v12E"
      }
    },
    {
      "cell_type": "code",
      "source": [
        "plt.scatter(X_train , y_train)       # plotting the data\n",
        "plt.plot(X_train , reg.predict(X_train) , color='red') #plotting the linear regression line\n",
        "\n",
        "plt.xlabel('X')\n",
        "plt.ylabel('y')\n",
        "plt.show()"
      ],
      "metadata": {
        "id": "PzxK1BSHv4bn"
      },
      "execution_count": null,
      "outputs": []
    },
    {
      "cell_type": "markdown",
      "source": [
        "# Polynomial Regression ( With Bias )"
      ],
      "metadata": {
        "id": "NFFkhx2syJjo"
      }
    },
    {
      "cell_type": "code",
      "source": [
        "#Applying Polynomial Linear Regression\n",
        "# degree 2\n",
        "ploy = PolynomialFeatures(degree=2, include_bias=True)\n",
        "X_train_poly = ploy.fit_transform(X_train)\n",
        "X_test_poly = ploy.fit_transform(X_test)"
      ],
      "metadata": {
        "id": "4a4DURNZyzvL"
      },
      "execution_count": null,
      "outputs": []
    },
    {
      "cell_type": "code",
      "source": [
        "reg = LinearRegression()\n",
        "reg.fit(X_train_poly, y_train)   # fitting the data"
      ],
      "metadata": {
        "id": "WHota0iPyJjp"
      },
      "execution_count": null,
      "outputs": []
    },
    {
      "cell_type": "code",
      "source": [
        "print (reg.coef_)\n",
        "print (reg.intercept_)"
      ],
      "metadata": {
        "id": "he5VI1OByJjp"
      },
      "execution_count": null,
      "outputs": []
    },
    {
      "cell_type": "code",
      "source": [
        "y_pred = reg.predict(X_test_poly)      # predicting the y value from x test value  from training the data\n",
        "r2_score(y_test, y_pred)         # calculating the r2 score"
      ],
      "metadata": {
        "id": "v4HCseZlyJjp"
      },
      "execution_count": null,
      "outputs": []
    },
    {
      "cell_type": "markdown",
      "source": [
        "Plotting the  Polynomial Regression ( Not required )"
      ],
      "metadata": {
        "id": "LYVsx1l7yJjp"
      }
    },
    {
      "cell_type": "code",
      "source": [
        "X_new = np.linspace(-3, 3, 100).reshape(100, 1)\n",
        "X_new_poly = ploy.transform(X_new)\n",
        "y_new = reg.predict(X_new_poly)"
      ],
      "metadata": {
        "id": "1b-8ckgj0dUq"
      },
      "execution_count": null,
      "outputs": []
    },
    {
      "cell_type": "code",
      "source": [
        "plt.plot(X_new , y_new , color='red' ,linewidth=2 , label='Predictions')\n",
        "plt.scatter(X_train , y_train , label='Training Data')\n",
        "plt.scatter(X_test , y_test , label='Testing Data')\n",
        "\n",
        "\n",
        "plt.xlabel('X')\n",
        "plt.ylabel('y')\n",
        "plt.legend()\n",
        "plt.show()"
      ],
      "metadata": {
        "id": "2VfKoDd_yJjp"
      },
      "execution_count": null,
      "outputs": []
    },
    {
      "cell_type": "code",
      "source": [],
      "metadata": {
        "id": "oDm7IFod1foL"
      },
      "execution_count": null,
      "outputs": []
    },
    {
      "cell_type": "markdown",
      "source": [
        "# Polynomial Regression ( With Bias But with Degree = 4 )"
      ],
      "metadata": {
        "id": "m2cXLUWQ1sBS"
      }
    },
    {
      "cell_type": "code",
      "source": [
        "#Applying Polynomial Linear Regression\n",
        "# degree 2\n",
        "ploy = PolynomialFeatures(degree=4, include_bias=True)\n",
        "X_train_poly = ploy.fit_transform(X_train)\n",
        "X_test_poly = ploy.fit_transform(X_test)"
      ],
      "metadata": {
        "id": "QFInt_k81sBS"
      },
      "execution_count": null,
      "outputs": []
    },
    {
      "cell_type": "code",
      "source": [
        "reg = LinearRegression()\n",
        "reg.fit(X_train_poly, y_train)   # fitting the data"
      ],
      "metadata": {
        "id": "3r5h-d1t1sBS"
      },
      "execution_count": null,
      "outputs": []
    },
    {
      "cell_type": "code",
      "source": [
        "print (reg.coef_)\n",
        "print (reg.intercept_)"
      ],
      "metadata": {
        "id": "QulcnH-B1sBT"
      },
      "execution_count": null,
      "outputs": []
    },
    {
      "cell_type": "code",
      "source": [
        "y_pred = reg.predict(X_test_poly)      # predicting the y value from x test value  from training the data\n",
        "r2_score(y_test, y_pred)         # calculating the r2 score"
      ],
      "metadata": {
        "id": "hjz047vE1sBT"
      },
      "execution_count": null,
      "outputs": []
    },
    {
      "cell_type": "markdown",
      "source": [
        "Plotting the  Polynomial Regression ( Not required )"
      ],
      "metadata": {
        "id": "2FaiiCNx1sBT"
      }
    },
    {
      "cell_type": "code",
      "source": [
        "X_new = np.linspace(-3, 3, 100).reshape(100, 1)\n",
        "X_new_poly = ploy.transform(X_new)\n",
        "y_new = reg.predict(X_new_poly)"
      ],
      "metadata": {
        "id": "lceL1aF01sBT"
      },
      "execution_count": null,
      "outputs": []
    },
    {
      "cell_type": "code",
      "source": [
        "plt.plot(X_new , y_new , color='red' ,linewidth=2 , label='Predictions')\n",
        "plt.scatter(X_train , y_train , label='Training Data')\n",
        "plt.scatter(X_test , y_test , label='Testing Data')\n",
        "\n",
        "\n",
        "plt.xlabel('X')\n",
        "plt.ylabel('y')\n",
        "plt.legend()\n",
        "plt.show()"
      ],
      "metadata": {
        "id": "lY2TVInF1sBT"
      },
      "execution_count": null,
      "outputs": []
    },
    {
      "cell_type": "markdown",
      "source": [
        "# Polynomial Regression ( Without Bias But with Degree = 4 )"
      ],
      "metadata": {
        "id": "2Zca8LOn2R1O"
      }
    },
    {
      "cell_type": "code",
      "source": [
        "#Applying Polynomial Linear Regression\n",
        "# degree 2\n",
        "ploy = PolynomialFeatures(degree=4, include_bias=False)\n",
        "X_train_poly = ploy.fit_transform(X_train)\n",
        "X_test_poly = ploy.fit_transform(X_test)"
      ],
      "metadata": {
        "id": "AxaBMMyi2R1O"
      },
      "execution_count": null,
      "outputs": []
    },
    {
      "cell_type": "code",
      "source": [
        "reg = LinearRegression()\n",
        "reg.fit(X_train_poly, y_train)   # fitting the data"
      ],
      "metadata": {
        "id": "EZyX5VDM2R1O"
      },
      "execution_count": null,
      "outputs": []
    },
    {
      "cell_type": "code",
      "source": [
        "print (reg.coef_)\n",
        "print (reg.intercept_)"
      ],
      "metadata": {
        "id": "fMI71SZ82R1O"
      },
      "execution_count": null,
      "outputs": []
    },
    {
      "cell_type": "code",
      "source": [
        "y_pred = reg.predict(X_test_poly)      # predicting the y value from x test value  from training the data\n",
        "r2_score(y_test, y_pred)         # calculating the r2 score"
      ],
      "metadata": {
        "id": "1kN4n0NW2R1P"
      },
      "execution_count": null,
      "outputs": []
    },
    {
      "cell_type": "markdown",
      "source": [
        "Plotting the  Polynomial Regression ( Not required )"
      ],
      "metadata": {
        "id": "9mYMRIiN2R1P"
      }
    },
    {
      "cell_type": "code",
      "source": [
        "X_new = np.linspace(-3, 3, 100).reshape(100, 1)\n",
        "X_new_poly = ploy.transform(X_new)\n",
        "y_new = reg.predict(X_new_poly)"
      ],
      "metadata": {
        "id": "27cT4qdL2R1P"
      },
      "execution_count": null,
      "outputs": []
    },
    {
      "cell_type": "code",
      "source": [
        "plt.plot(X_new , y_new , color='red' ,linewidth=2 , label='Predictions')\n",
        "plt.scatter(X_train , y_train , label='Training Data')\n",
        "plt.scatter(X_test , y_test , label='Testing Data')\n",
        "\n",
        "\n",
        "plt.xlabel('X')\n",
        "plt.ylabel('y')\n",
        "plt.legend()\n",
        "plt.show()"
      ],
      "metadata": {
        "id": "pZuQn7JD2R1P"
      },
      "execution_count": null,
      "outputs": []
    }
  ]
}