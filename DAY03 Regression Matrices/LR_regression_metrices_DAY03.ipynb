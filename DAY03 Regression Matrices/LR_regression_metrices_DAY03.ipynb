{
  "nbformat": 4,
  "nbformat_minor": 0,
  "metadata": {
    "colab": {
      "private_outputs": true,
      "provenance": []
    },
    "kernelspec": {
      "name": "python3",
      "display_name": "Python 3"
    },
    "language_info": {
      "name": "python"
    }
  },
  "cells": [
    {
      "cell_type": "markdown",
      "source": [
        "# Error Analysis\n",
        "\n",
        "( MAE , MSE , RMSE , R2 , R2 ads )\n",
        "---\n"
      ],
      "metadata": {
        "id": "u93QB4H8gs0F"
      }
    },
    {
      "cell_type": "markdown",
      "source": [
        "IMPORTING DATA SCIENCE LIBRARIES"
      ],
      "metadata": {
        "id": "I2xjrloHcxJQ"
      }
    },
    {
      "cell_type": "code",
      "execution_count": null,
      "metadata": {
        "id": "JF9RMWnFZYq3"
      },
      "outputs": [],
      "source": [
        "import numpy as np\n",
        "import pandas as pd\n",
        "import matplotlib.pyplot as plt\n",
        "import seaborn as sns\n"
      ]
    },
    {
      "cell_type": "markdown",
      "source": [
        "IMPORT MACHINE LEARNING LIBRARIES AND CLASSES"
      ],
      "metadata": {
        "id": "-FDeOVL3M7rU"
      }
    },
    {
      "cell_type": "code",
      "source": [
        "\n",
        "from sklearn.model_selection import train_test_split               #for splitting the data into test and training data\n",
        "from sklearn.compose import ColumnTransformer                       #for transforming the columns\n",
        "from sklearn.impute import SimpleImputer                             #for imputing the missing values\n",
        "from sklearn.preprocessing import OneHotEncoder                      #one hot encoding\n",
        "from sklearn.preprocessing import MinMaxScaler                        #standard scaling\n",
        "\n",
        "\n",
        "from sklearn.metrics import accuracy_score                 # for accuracy score\n",
        "from sklearn.model_selection import cross_val_score        # for cross validation score\n"
      ],
      "metadata": {
        "id": "TaUQd0m-afNa"
      },
      "execution_count": null,
      "outputs": []
    },
    {
      "cell_type": "code",
      "source": [
        "from google.colab import files    # we are importing the file from the device\n",
        "uploaded = files.upload()"
      ],
      "metadata": {
        "id": "LyA9ckDSZ1Ra"
      },
      "execution_count": null,
      "outputs": []
    },
    {
      "cell_type": "code",
      "source": [
        "df= pd.read_csv('placement (2).csv', usecols =['cgpa','package'])   #fitting the data in the df dataframe\n",
        "df.head()"
      ],
      "metadata": {
        "id": "paRuHdlDaWqd"
      },
      "execution_count": null,
      "outputs": []
    },
    {
      "cell_type": "code",
      "source": [
        "df.shape"
      ],
      "metadata": {
        "id": "RfJD6TjF3zNm"
      },
      "execution_count": null,
      "outputs": []
    },
    {
      "cell_type": "code",
      "source": [
        "df.info()"
      ],
      "metadata": {
        "id": "wCHVmYR_fag7"
      },
      "execution_count": null,
      "outputs": []
    },
    {
      "cell_type": "code",
      "source": [
        "df.describe()"
      ],
      "metadata": {
        "id": "UbV7iabMfcp3"
      },
      "execution_count": null,
      "outputs": []
    },
    {
      "cell_type": "code",
      "source": [
        "df.isnull().mean()*100"
      ],
      "metadata": {
        "id": "nrUIXvhGfh6_"
      },
      "execution_count": null,
      "outputs": []
    },
    {
      "cell_type": "code",
      "source": [
        "df\n"
      ],
      "metadata": {
        "id": "_9shwYygXk5n"
      },
      "execution_count": null,
      "outputs": []
    },
    {
      "cell_type": "markdown",
      "source": [
        "# Plotting the graph for Linear Regression"
      ],
      "metadata": {
        "id": "lqwR9UULYn3C"
      }
    },
    {
      "cell_type": "code",
      "source": [
        "#Plotting the graph for Cgpa vs package graph\n",
        "plt.figure(figsize=(12,10))\n",
        "\n",
        "plt.title('CGPA vs PACKAGE')\n",
        "plt.xlabel('CGPA')\n",
        "plt.ylabel('PACKAGE')\n",
        "plt.scatter(df['cgpa'],df['package']  ,color='red')\n",
        "plt.show()\n",
        "\n",
        "\n",
        "\n",
        "plt.show()"
      ],
      "metadata": {
        "id": "YI7uC7n4Yso5"
      },
      "execution_count": null,
      "outputs": []
    },
    {
      "cell_type": "markdown",
      "source": [
        "# TRAIN / TEST SPLIT"
      ],
      "metadata": {
        "id": "y_2PO5FaLyde"
      }
    },
    {
      "cell_type": "code",
      "source": [
        "X = df['cgpa']\n",
        "y = df['package']"
      ],
      "metadata": {
        "id": "UwtdVTetMEyj"
      },
      "execution_count": null,
      "outputs": []
    },
    {
      "cell_type": "code",
      "source": [
        "X_train , X_test , y_train , y_test = train_test_split(X,y,test_size=0.2,random_state=2)"
      ],
      "metadata": {
        "id": "Z1md4tgWMiOW"
      },
      "execution_count": null,
      "outputs": []
    },
    {
      "cell_type": "markdown",
      "source": [
        "#  LINEAR REGRESSION"
      ],
      "metadata": {
        "id": "a292BR21Nn2H"
      }
    },
    {
      "cell_type": "code",
      "source": [
        "from sklearn.linear_model import LinearRegression\n",
        "lr = LinearRegression()             # lr is the linear regression model"
      ],
      "metadata": {
        "id": "wdk4aOhmNtEA"
      },
      "execution_count": null,
      "outputs": []
    },
    {
      "cell_type": "markdown",
      "source": [
        "WE are now Fitting the DATA"
      ],
      "metadata": {
        "id": "SFYfS3RaN6-O"
      }
    },
    {
      "cell_type": "code",
      "source": [
        "lr.fit(X_train.values.reshape(-1,1),y_train)"
      ],
      "metadata": {
        "id": "Q6fE_SelOAup"
      },
      "execution_count": null,
      "outputs": []
    },
    {
      "cell_type": "markdown",
      "source": [
        "WE reshaped the array as it takes 2D array as Minimum"
      ],
      "metadata": {
        "id": "r_Lpg3YrOklC"
      }
    },
    {
      "cell_type": "code",
      "source": [
        "X_test"
      ],
      "metadata": {
        "collapsed": true,
        "id": "2xUhSbHDOxCx"
      },
      "execution_count": null,
      "outputs": []
    },
    {
      "cell_type": "code",
      "source": [
        "y_test"
      ],
      "metadata": {
        "collapsed": true,
        "id": "NyoJeuHyP6mF"
      },
      "execution_count": null,
      "outputs": []
    },
    {
      "cell_type": "markdown",
      "source": [
        "We are fitted the TRAINING DATA INTO THE LINEAR REGRESSION MODEL"
      ],
      "metadata": {
        "id": "_CH08GQTPMkS"
      }
    },
    {
      "cell_type": "markdown",
      "source": [
        "NOW WE WILL GIVE IT THE TEST DATA AND PREDICT THE PACKAGE OF THE FIRST STUDENT"
      ],
      "metadata": {
        "id": "wXio6cBCPUdC"
      }
    },
    {
      "cell_type": "code",
      "source": [
        "lr.predict(X_test.values.reshape(-1,1))[0]     #We reshaped here and found the prediction for the first data"
      ],
      "metadata": {
        "id": "5r2rVA8jO10G"
      },
      "execution_count": null,
      "outputs": []
    },
    {
      "cell_type": "code",
      "source": [
        "lr.predict(X_test.values.reshape(-1,1))[1]"
      ],
      "metadata": {
        "id": "eqN3k8mfPwfQ"
      },
      "execution_count": null,
      "outputs": []
    },
    {
      "cell_type": "code",
      "source": [
        "lr.predict(X_test.values.reshape(-1,1))[2]"
      ],
      "metadata": {
        "id": "V4JWpTgZP3Ip"
      },
      "execution_count": null,
      "outputs": []
    },
    {
      "cell_type": "markdown",
      "source": [
        "# Plotting the Line"
      ],
      "metadata": {
        "id": "EAEVPYyTSYkN"
      }
    },
    {
      "cell_type": "code",
      "source": [
        "plt.figure(figsize=(12,10))\n",
        "\n",
        "plt.title('CGPA vs PACKAGE')\n",
        "plt.xlabel('CGPA')\n",
        "plt.ylabel('PACKAGE')\n",
        "plt.plot(X_train,lr.predict(X_train.values.reshape(-1,1)),color='blue')\n",
        "plt.scatter(df['cgpa'],df['package']  ,color='red')\n",
        "plt.show()\n",
        "\n",
        "\n",
        "\n",
        "\n",
        "plt.show()"
      ],
      "metadata": {
        "id": "jrfeshqpSavL"
      },
      "execution_count": null,
      "outputs": []
    },
    {
      "cell_type": "markdown",
      "source": [
        "#  Error Analysis / Regression Matrices"
      ],
      "metadata": {
        "id": "BCSbLe05EJDD"
      }
    },
    {
      "cell_type": "code",
      "source": [
        "from sklearn.metrics import mean_absolute_error , mean_squared_error , r2_score\n"
      ],
      "metadata": {
        "id": "qIfLwlb_EY2s"
      },
      "execution_count": null,
      "outputs": []
    },
    {
      "cell_type": "code",
      "source": [
        "y_pred = lr.predict( X_test.values.reshape(-1,1))   # this will store the predicted value"
      ],
      "metadata": {
        "id": "GmiN0hVmEbku"
      },
      "execution_count": null,
      "outputs": []
    },
    {
      "cell_type": "code",
      "source": [
        "y_test.values # this is our test value"
      ],
      "metadata": {
        "id": "mzAz9FZyEwTZ"
      },
      "execution_count": null,
      "outputs": []
    },
    {
      "cell_type": "markdown",
      "source": [
        "MAE"
      ],
      "metadata": {
        "id": "ODH6G9KsFIGk"
      }
    },
    {
      "cell_type": "code",
      "source": [
        "print(\"MAE: \" ,mean_absolute_error(y_test,y_pred))  # it is coming in Lpa"
      ],
      "metadata": {
        "id": "i5tvi_ehFJqz"
      },
      "execution_count": null,
      "outputs": []
    },
    {
      "cell_type": "markdown",
      "source": [
        "MSE"
      ],
      "metadata": {
        "id": "XEQ9NjKJFeJ0"
      }
    },
    {
      "cell_type": "code",
      "source": [
        "print(\"MSE: \" ,mean_squared_error(y_test,y_pred))"
      ],
      "metadata": {
        "id": "qQeWowOTFemY"
      },
      "execution_count": null,
      "outputs": []
    },
    {
      "cell_type": "markdown",
      "source": [
        "RMSE"
      ],
      "metadata": {
        "id": "AFpIWRVzF8hw"
      }
    },
    {
      "cell_type": "code",
      "source": [
        "print(\"RMSE: \" ,np.sqrt(mean_squared_error(y_test,y_pred))) # in LPA"
      ],
      "metadata": {
        "id": "LjNvinLLF8Jj"
      },
      "execution_count": null,
      "outputs": []
    },
    {
      "cell_type": "markdown",
      "source": [
        "R2 Score"
      ],
      "metadata": {
        "id": "uncIlqFnFmJ4"
      }
    },
    {
      "cell_type": "code",
      "source": [
        "print(\"R2 Score: \" ,r2_score(y_test,y_pred))\n",
        "r2 = r2_score(y_test,y_pred)"
      ],
      "metadata": {
        "id": "ELgM2EP0Fmmf"
      },
      "execution_count": null,
      "outputs": []
    },
    {
      "cell_type": "markdown",
      "source": [
        "Adjusted  R2 Score"
      ],
      "metadata": {
        "id": "4i_mECIrGJSo"
      }
    },
    {
      "cell_type": "code",
      "source": [
        "X_test.shape"
      ],
      "metadata": {
        "id": "tzJfRSeMHkS7"
      },
      "execution_count": null,
      "outputs": []
    },
    {
      "cell_type": "code",
      "source": [
        "adjusted_R2 = 1 - (1-r2)*(40-1)/(40 -1 -1 )\n",
        "print(\"Adjusted R2 Score: \" ,adjusted_R2 )"
      ],
      "metadata": {
        "id": "jnWb3EVTGJuM"
      },
      "execution_count": null,
      "outputs": []
    },
    {
      "cell_type": "markdown",
      "source": [
        "Value of R2 we calculated .\n",
        "Number of columns  (k) = 1\n",
        "n - shape of the X_test = 40"
      ],
      "metadata": {
        "id": "JV5LunStHJdz"
      }
    },
    {
      "cell_type": "markdown",
      "source": [
        "# Finding Slope and Y-intercept"
      ],
      "metadata": {
        "id": "Xtp9dhbHTu34"
      }
    },
    {
      "cell_type": "code",
      "source": [
        "m*9.5 + c"
      ],
      "metadata": {
        "id": "O2LqGU7PUcHO"
      },
      "execution_count": null,
      "outputs": []
    },
    {
      "cell_type": "markdown",
      "source": [
        "# We will add another random column and find the R2 and Adjusted R2 score"
      ],
      "metadata": {
        "id": "vOE89sAzH21X"
      }
    },
    {
      "cell_type": "code",
      "source": [
        "new = df.copy()\n",
        "new['random_feature'] = np.random.random(200)\n",
        "\n",
        "new = new[['cgpa', 'random_feature','package']]\n",
        "new.head()"
      ],
      "metadata": {
        "id": "pD5Hkw05H93y"
      },
      "execution_count": null,
      "outputs": []
    },
    {
      "cell_type": "markdown",
      "source": [
        "# TRAIN / TEST SPLIT"
      ],
      "metadata": {
        "id": "VdWYvz1sIzk-"
      }
    },
    {
      "cell_type": "code",
      "source": [
        "X = new[['cgpa','random_feature']]\n",
        "y = new['package']"
      ],
      "metadata": {
        "id": "BhvczQF3IzlF"
      },
      "execution_count": null,
      "outputs": []
    },
    {
      "cell_type": "code",
      "source": [
        "X_train , X_test , y_train , y_test = train_test_split(X,y,test_size=0.2,random_state=2)"
      ],
      "metadata": {
        "id": "UK-Mj6A6IzlG"
      },
      "execution_count": null,
      "outputs": []
    },
    {
      "cell_type": "code",
      "source": [
        "m = lr.coef_   # slope\n",
        "m"
      ],
      "metadata": {
        "id": "b2Ig0DNST0bR"
      },
      "execution_count": null,
      "outputs": []
    },
    {
      "cell_type": "code",
      "source": [
        "c =lr.intercept_  # y-intercept\n",
        "c"
      ],
      "metadata": {
        "id": "fwkk6GRrT9UN"
      },
      "execution_count": null,
      "outputs": []
    },
    {
      "cell_type": "markdown",
      "source": [
        "Line equation Y = mX + c"
      ],
      "metadata": {
        "id": "4XbKDU1zUBQI"
      }
    },
    {
      "cell_type": "code",
      "source": [
        "m*8.58 + c        # which is same as the package value that we have predicted"
      ],
      "metadata": {
        "id": "_ZXriB6NUIq2"
      },
      "execution_count": null,
      "outputs": []
    },
    {
      "cell_type": "markdown",
      "source": [
        "Lets say there is student whose CGPA is 9.5  what will its package be"
      ],
      "metadata": {
        "id": "PeuQNkmjUUMF"
      }
    },
    {
      "cell_type": "markdown",
      "source": [
        "#  LINEAR REGRESSION"
      ],
      "metadata": {
        "id": "6GGSFw2ZKzyI"
      }
    },
    {
      "cell_type": "code",
      "source": [
        "from sklearn.linear_model import LinearRegression\n",
        "lr = LinearRegression()             # lr is the linear regression model"
      ],
      "metadata": {
        "id": "YW22-csiKzyO"
      },
      "execution_count": null,
      "outputs": []
    },
    {
      "cell_type": "markdown",
      "source": [
        "WE are now Fitting the DATA"
      ],
      "metadata": {
        "id": "IHniHhytKzyP"
      }
    },
    {
      "cell_type": "code",
      "source": [
        "lr.fit(X_train.values.reshape(-1,2),y_train)"
      ],
      "metadata": {
        "id": "oAleJD6sKzyP"
      },
      "execution_count": null,
      "outputs": []
    },
    {
      "cell_type": "markdown",
      "source": [
        "WE reshaped the array as it takes 2D array as Minimum"
      ],
      "metadata": {
        "id": "R9T67bobKzyP"
      }
    },
    {
      "cell_type": "markdown",
      "source": [
        "We are fitted the TRAINING DATA INTO THE LINEAR REGRESSION MODEL"
      ],
      "metadata": {
        "id": "u5xmlLCvKzyP"
      }
    },
    {
      "cell_type": "markdown",
      "source": [
        "NOW WE WILL GIVE IT THE TEST DATA AND PREDICT THE PACKAGE OF THE FIRST STUDENT"
      ],
      "metadata": {
        "id": "WWMrlKYiKzyP"
      }
    },
    {
      "cell_type": "code",
      "source": [
        "lr.predict(X_test.values.reshape(-1,2))[0]     #We reshaped here and found the prediction for the first data"
      ],
      "metadata": {
        "id": "zkbqb5JYKzyP"
      },
      "execution_count": null,
      "outputs": []
    },
    {
      "cell_type": "code",
      "source": [
        "lr.predict(X_test.values.reshape(-1,2))[1]"
      ],
      "metadata": {
        "id": "iNsbRbGBKzyP"
      },
      "execution_count": null,
      "outputs": []
    },
    {
      "cell_type": "code",
      "source": [
        "lr.predict(X_test.values.reshape(-1,2))[2]"
      ],
      "metadata": {
        "id": "C5ChAG0hKzyQ"
      },
      "execution_count": null,
      "outputs": []
    },
    {
      "cell_type": "markdown",
      "source": [
        "#  Error Analysis / Regression Matrices"
      ],
      "metadata": {
        "id": "Qmldaj1_LNBj"
      }
    },
    {
      "cell_type": "code",
      "source": [
        "from sklearn.metrics import mean_absolute_error , mean_squared_error , r2_score\n"
      ],
      "metadata": {
        "id": "9C3GPrYsLNBk"
      },
      "execution_count": null,
      "outputs": []
    },
    {
      "cell_type": "code",
      "source": [
        "y_pred = lr.predict( X_test.values.reshape(-1,2))   # this will store the predicted value"
      ],
      "metadata": {
        "id": "-Q_H7JQaLNBl"
      },
      "execution_count": null,
      "outputs": []
    },
    {
      "cell_type": "code",
      "source": [
        "y_test.values # this is our test value"
      ],
      "metadata": {
        "id": "59t8sQ2ZLNBl"
      },
      "execution_count": null,
      "outputs": []
    },
    {
      "cell_type": "markdown",
      "source": [
        "MAE"
      ],
      "metadata": {
        "id": "c-9Q9QdVLNBm"
      }
    },
    {
      "cell_type": "code",
      "source": [
        "print(\"MAE: \" ,mean_absolute_error(y_test,y_pred))  # it is coming in Lpa"
      ],
      "metadata": {
        "id": "dAnbcWaWLNBm"
      },
      "execution_count": null,
      "outputs": []
    },
    {
      "cell_type": "markdown",
      "source": [
        "MSE"
      ],
      "metadata": {
        "id": "Ez2N93eaLNBm"
      }
    },
    {
      "cell_type": "code",
      "source": [
        "print(\"MSE: \" ,mean_squared_error(y_test,y_pred))"
      ],
      "metadata": {
        "id": "KbOhI5nBLNBn"
      },
      "execution_count": null,
      "outputs": []
    },
    {
      "cell_type": "markdown",
      "source": [
        "RMSE"
      ],
      "metadata": {
        "id": "aZK4rtDMLNBn"
      }
    },
    {
      "cell_type": "code",
      "source": [
        "print(\"RMSE: \" ,np.sqrt(mean_squared_error(y_test,y_pred))) # in LPA"
      ],
      "metadata": {
        "id": "Tt3Td5XsLNBo"
      },
      "execution_count": null,
      "outputs": []
    },
    {
      "cell_type": "markdown",
      "source": [
        "R2 Score"
      ],
      "metadata": {
        "id": "x2KHHr7ZLNBo"
      }
    },
    {
      "cell_type": "code",
      "source": [
        "print(\"R2 Score: \" ,r2_score(y_test,y_pred))\n",
        "r2 = r2_score(y_test,y_pred)"
      ],
      "metadata": {
        "id": "x1JZGGNsLNBo"
      },
      "execution_count": null,
      "outputs": []
    },
    {
      "cell_type": "markdown",
      "source": [
        "Adjusted  R2 Score"
      ],
      "metadata": {
        "id": "nJ_9OgcTLNBp"
      }
    },
    {
      "cell_type": "code",
      "source": [
        "X_test.shape"
      ],
      "metadata": {
        "id": "60YKib8zLNBp"
      },
      "execution_count": null,
      "outputs": []
    },
    {
      "cell_type": "code",
      "source": [
        "adjusted_R2 = 1 - (1-r2)*(40-1)/(40 -1 -1 )\n",
        "print(\"Adjusted R2 Score: \" ,adjusted_R2 )"
      ],
      "metadata": {
        "id": "S1tpbxheLNBp"
      },
      "execution_count": null,
      "outputs": []
    },
    {
      "cell_type": "markdown",
      "source": [
        "Value of R2 we calculated .\n",
        "Number of columns  (k) = 1\n",
        "n - shape of the X_test = 40"
      ],
      "metadata": {
        "id": "uLf3Ba7XLNBp"
      }
    }
  ]
}