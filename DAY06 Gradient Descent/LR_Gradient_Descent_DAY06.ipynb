{
  "nbformat": 4,
  "nbformat_minor": 0,
  "metadata": {
    "colab": {
      "private_outputs": true,
      "provenance": []
    },
    "kernelspec": {
      "name": "python3",
      "display_name": "Python 3"
    },
    "language_info": {
      "name": "python"
    }
  },
  "cells": [
    {
      "cell_type": "markdown",
      "source": [
        "# Gradient Descent\n",
        "\n",
        "---\n"
      ],
      "metadata": {
        "id": "u93QB4H8gs0F"
      }
    },
    {
      "cell_type": "markdown",
      "source": [
        "IMPORTING DATA SCIENCE LIBRARIES"
      ],
      "metadata": {
        "id": "I2xjrloHcxJQ"
      }
    },
    {
      "cell_type": "code",
      "execution_count": null,
      "metadata": {
        "id": "JF9RMWnFZYq3"
      },
      "outputs": [],
      "source": [
        "import numpy as np\n",
        "import pandas as pd\n",
        "import matplotlib.pyplot as plt\n",
        "import seaborn as sns\n"
      ]
    },
    {
      "cell_type": "markdown",
      "source": [
        "IMPORT MACHINE LEARNING LIBRARIES AND CLASSES"
      ],
      "metadata": {
        "id": "-FDeOVL3M7rU"
      }
    },
    {
      "cell_type": "code",
      "source": [
        "\n",
        "from sklearn.model_selection import train_test_split               #for splitting the data into test and training data\n",
        "from sklearn.compose import ColumnTransformer                       #for transforming the columns\n",
        "from sklearn.impute import SimpleImputer                             #for imputing the missing values\n",
        "from sklearn.preprocessing import OneHotEncoder                      #one hot encoding\n",
        "from sklearn.preprocessing import MinMaxScaler                        #standard scaling\n",
        "\n",
        "from sklearn.datasets import load_diabetes\n",
        "\n",
        "from sklearn.datasets import make_regression\n",
        "\n",
        "import plotly.express as px\n",
        "import plotly.graph_objects as go\n",
        "\n",
        "\n",
        "\n",
        "from sklearn.metrics import accuracy_score                 # for accuracy score\n",
        "from sklearn.model_selection import cross_val_score        # for cross validation score\n"
      ],
      "metadata": {
        "id": "TaUQd0m-afNa"
      },
      "execution_count": null,
      "outputs": []
    },
    {
      "cell_type": "markdown",
      "source": [
        "# Loading and Information about the Dataset"
      ],
      "metadata": {
        "id": "XTPRT3iy9EuI"
      }
    },
    {
      "cell_type": "code",
      "source": [
        "#from google.colab import files    # we are importing the file from the device\n",
        "#uploaded = files.upload()\n"
      ],
      "metadata": {
        "id": "d9_tiRIo9Nrv"
      },
      "execution_count": null,
      "outputs": []
    },
    {
      "cell_type": "code",
      "source": [
        "import matplotlib.pyplot as plt\n",
        "plt.scatter(X, y )"
      ],
      "metadata": {
        "id": "aMjmpIE_9JRP"
      },
      "execution_count": null,
      "outputs": []
    },
    {
      "cell_type": "code",
      "source": [
        "X , y = make_regression(n_samples=4,n_features=1,n_informative=1 , noise=80 , random_state=13)"
      ],
      "metadata": {
        "id": "4W4WSC5ZFgmb"
      },
      "execution_count": null,
      "outputs": []
    },
    {
      "cell_type": "code",
      "source": [
        "X.shape"
      ],
      "metadata": {
        "id": "g_6uIE9T-d8D"
      },
      "execution_count": null,
      "outputs": []
    },
    {
      "cell_type": "code",
      "source": [
        "X"
      ],
      "metadata": {
        "id": "N3tKqqgUAt1H"
      },
      "execution_count": null,
      "outputs": []
    },
    {
      "cell_type": "code",
      "source": [
        "y.shape"
      ],
      "metadata": {
        "id": "AOA5LU0Q-f7T"
      },
      "execution_count": null,
      "outputs": []
    },
    {
      "cell_type": "code",
      "source": [
        "y"
      ],
      "metadata": {
        "id": "7h2fSx4aAx_v"
      },
      "execution_count": null,
      "outputs": []
    },
    {
      "cell_type": "markdown",
      "source": [
        "#  LINEAR REGRESSION"
      ],
      "metadata": {
        "id": "a292BR21Nn2H"
      }
    },
    {
      "cell_type": "code",
      "source": [
        "from sklearn.linear_model import LinearRegression\n",
        "lr = LinearRegression()             # lr is the linear regression model"
      ],
      "metadata": {
        "id": "wdk4aOhmNtEA"
      },
      "execution_count": null,
      "outputs": []
    },
    {
      "cell_type": "markdown",
      "source": [
        "WE are now Fitting the DATA"
      ],
      "metadata": {
        "id": "SFYfS3RaN6-O"
      }
    },
    {
      "cell_type": "code",
      "source": [
        "lr.fit(X, y )"
      ],
      "metadata": {
        "id": "Q6fE_SelOAup"
      },
      "execution_count": null,
      "outputs": []
    },
    {
      "cell_type": "markdown",
      "source": [
        "WE reshaped the array as it takes 2D array as Minimum"
      ],
      "metadata": {
        "id": "r_Lpg3YrOklC"
      }
    },
    {
      "cell_type": "code",
      "source": [
        "lr.coef_"
      ],
      "metadata": {
        "id": "ou1__vAnx23P"
      },
      "execution_count": null,
      "outputs": []
    },
    {
      "cell_type": "code",
      "source": [
        "lr.intercept_"
      ],
      "metadata": {
        "id": "ePDYiiePx57W"
      },
      "execution_count": null,
      "outputs": []
    },
    {
      "cell_type": "markdown",
      "source": [
        "#  Error Analysis / Regression Matrices"
      ],
      "metadata": {
        "id": "BCSbLe05EJDD"
      }
    },
    {
      "cell_type": "code",
      "source": [
        "from sklearn.metrics import mean_absolute_error , mean_squared_error , r2_score\n"
      ],
      "metadata": {
        "id": "qIfLwlb_EY2s"
      },
      "execution_count": null,
      "outputs": []
    },
    {
      "cell_type": "code",
      "source": [
        "plt.scatter(X, y )\n",
        "plt.plot(X, lr.predict(X) , color='red')"
      ],
      "metadata": {
        "id": "xaYRARxYx1su"
      },
      "execution_count": null,
      "outputs": []
    },
    {
      "cell_type": "markdown",
      "source": [
        "Lets apply Gradient Descent assuming slope is constant  m = 78.35\n",
        "and let's assume the starting value for intercept  b  = 0\n"
      ],
      "metadata": {
        "id": "v7Tn91QXylki"
      }
    },
    {
      "cell_type": "code",
      "source": [
        "y_pred=((78.35 * X) + 0 ).reshape(4)"
      ],
      "metadata": {
        "id": "YZvF7f-fy3-X"
      },
      "execution_count": null,
      "outputs": []
    },
    {
      "cell_type": "markdown",
      "source": [
        "# Plotting the Graph"
      ],
      "metadata": {
        "id": "NXjpfHOHzEz2"
      }
    },
    {
      "cell_type": "code",
      "source": [
        "plt.scatter(X, y )\n",
        "plt.plot(X, lr.predict(X) , color='red'  ,label='OLS')\n",
        "plt.plot(X , y_pred , color='green' , label='b =  0')\n",
        "plt.legend()\n",
        "plt.show()"
      ],
      "metadata": {
        "id": "hGqa9ydWzHhW"
      },
      "execution_count": null,
      "outputs": []
    },
    {
      "cell_type": "markdown",
      "source": [
        "# Loss Function"
      ],
      "metadata": {
        "id": "QGYtLvw808ic"
      }
    },
    {
      "cell_type": "code",
      "source": [
        "m = 78.35\n",
        "b = 0"
      ],
      "metadata": {
        "id": "i3xCgrci1gdw"
      },
      "execution_count": null,
      "outputs": []
    },
    {
      "cell_type": "markdown",
      "source": [
        "# ITERATION 1 :"
      ],
      "metadata": {
        "id": "RB45RC0F5wbL"
      }
    },
    {
      "cell_type": "code",
      "source": [
        "loss_slope = -2 * np.sum(y - m*X.ravel() - b )\n",
        "loss_slope"
      ],
      "metadata": {
        "id": "0kUqKpLt0-hc"
      },
      "execution_count": null,
      "outputs": []
    },
    {
      "cell_type": "markdown",
      "source": [
        "lets take Learning rate as  0.1"
      ],
      "metadata": {
        "id": "PAA6yBTC1laO"
      }
    },
    {
      "cell_type": "code",
      "source": [
        "lrate  = 0.1\n",
        "\n",
        "step_size = loss_slope*lrate\n",
        "step_size"
      ],
      "metadata": {
        "id": "_DisP4bu1ou7"
      },
      "execution_count": null,
      "outputs": []
    },
    {
      "cell_type": "markdown",
      "source": [
        "calculating the new intercept"
      ],
      "metadata": {
        "id": "tJjD6pxH3XQl"
      }
    },
    {
      "cell_type": "code",
      "source": [
        "b = b - step_size\n",
        "b"
      ],
      "metadata": {
        "id": "1WVjOtV73aIG"
      },
      "execution_count": null,
      "outputs": []
    },
    {
      "cell_type": "markdown",
      "source": [
        "Plotting the Graph"
      ],
      "metadata": {
        "id": "zf1HnCPm3iJi"
      }
    },
    {
      "cell_type": "code",
      "source": [
        "y_pred1=((78.35 * X) + b ).reshape(4)\n",
        "\n",
        "plt.scatter(X, y)\n",
        "plt.plot(X, lr.predict(X) , color='red'  ,label='OLS')   # calculating using formula\n",
        "plt.plot(X , y_pred , color='black' , label='b =  0')    # calculating having b = 0\n",
        "\n",
        "\n",
        "plt.plot(X , y_pred1 , color='blue' , label='b = {}'.format(b))    # calculating doing gradient descent on b changing the value of b\n",
        "plt.legend()\n",
        "\n",
        "plt.show()"
      ],
      "metadata": {
        "id": "oB7bsXIR3lrW"
      },
      "execution_count": null,
      "outputs": []
    },
    {
      "cell_type": "markdown",
      "source": [
        "# ITERATION 2 :"
      ],
      "metadata": {
        "id": "5wFvUgUg57K6"
      }
    },
    {
      "cell_type": "code",
      "source": [
        "loss_slope = -2 * np.sum(y - m*X.ravel() - b )\n",
        "loss_slope"
      ],
      "metadata": {
        "id": "NmoeeZFF57LC"
      },
      "execution_count": null,
      "outputs": []
    },
    {
      "cell_type": "markdown",
      "source": [
        "lets take Learning rate as  0.1"
      ],
      "metadata": {
        "id": "ZmFyPRu557LC"
      }
    },
    {
      "cell_type": "code",
      "source": [
        "lrate  = 0.1\n",
        "\n",
        "step_size = loss_slope*lrate\n",
        "step_size"
      ],
      "metadata": {
        "id": "86kdyzAW57LC"
      },
      "execution_count": null,
      "outputs": []
    },
    {
      "cell_type": "markdown",
      "source": [
        "calculating the new intercept"
      ],
      "metadata": {
        "id": "G5Fx3qXd57LC"
      }
    },
    {
      "cell_type": "code",
      "source": [
        "b = b - step_size\n",
        "b"
      ],
      "metadata": {
        "id": "AnNyQ7kb57LD"
      },
      "execution_count": null,
      "outputs": []
    },
    {
      "cell_type": "markdown",
      "source": [
        "Plotting the Graph"
      ],
      "metadata": {
        "id": "TaPJXfPk57LD"
      }
    },
    {
      "cell_type": "code",
      "source": [
        "y_pred2=((78.35 * X) + b ).reshape(4)\n",
        "\n",
        "plt.scatter(X, y)\n",
        "plt.plot(X, lr.predict(X) , color='red'  ,label='OLS')   # calculating using formula\n",
        "plt.plot(X , y_pred , color='black' , label='b =  0')    # calculating having b = 0\n",
        "\n",
        "\n",
        "plt.plot(X , y_pred2 , color='blue' , label='b = {}'.format(b))    # calculating doing gradient descent on b changing the value of b\n",
        "plt.legend()\n",
        "\n",
        "plt.show()"
      ],
      "metadata": {
        "id": "2tqCeIiM57LD"
      },
      "execution_count": null,
      "outputs": []
    },
    {
      "cell_type": "markdown",
      "source": [
        "# ITERATION 3 :"
      ],
      "metadata": {
        "id": "LMEyM6wj6Pq4"
      }
    },
    {
      "cell_type": "code",
      "source": [
        "loss_slope = -2 * np.sum(y - m*X.ravel() - b )\n",
        "loss_slope"
      ],
      "metadata": {
        "id": "t4QLDoav6PrA"
      },
      "execution_count": null,
      "outputs": []
    },
    {
      "cell_type": "markdown",
      "source": [
        "lets take Learning rate as  0.1"
      ],
      "metadata": {
        "id": "3TiChzNe6PrA"
      }
    },
    {
      "cell_type": "code",
      "source": [
        "lrate  = 0.1\n",
        "\n",
        "step_size = loss_slope*lrate\n",
        "step_size"
      ],
      "metadata": {
        "id": "LdkENFZ36PrA"
      },
      "execution_count": null,
      "outputs": []
    },
    {
      "cell_type": "markdown",
      "source": [
        "calculating the new intercept"
      ],
      "metadata": {
        "id": "Fqc1uSjQ6PrB"
      }
    },
    {
      "cell_type": "code",
      "source": [
        "b = b - step_size\n",
        "b"
      ],
      "metadata": {
        "id": "YdeUu9t16PrB"
      },
      "execution_count": null,
      "outputs": []
    },
    {
      "cell_type": "markdown",
      "source": [
        "Plotting the Graph"
      ],
      "metadata": {
        "id": "df8pPbg26PrB"
      }
    },
    {
      "cell_type": "code",
      "source": [
        "y_pred3=((78.35 * X) + b ).reshape(4)\n",
        "\n",
        "plt.scatter(X, y)\n",
        "plt.plot(X, lr.predict(X) , color='red'  ,label='OLS')   # calculating using formula\n",
        "plt.plot(X , y_pred , color='black' , label='b =  0')    # calculating having b = 0\n",
        "\n",
        "\n",
        "plt.plot(X , y_pred3 , color='blue' , label='b = {}'.format(b))    # calculating doing gradient descent on b changing the value of b\n",
        "plt.legend()\n",
        "\n",
        "plt.show()"
      ],
      "metadata": {
        "id": "noBnqW9S6PrB"
      },
      "execution_count": null,
      "outputs": []
    },
    {
      "cell_type": "markdown",
      "source": [
        "# ITERATION 4 :"
      ],
      "metadata": {
        "id": "Q4DMd31Q6aCf"
      }
    },
    {
      "cell_type": "code",
      "source": [
        "loss_slope = -2 * np.sum(y - m*X.ravel() - b )\n",
        "loss_slope"
      ],
      "metadata": {
        "id": "hR0MLyZP6aCg"
      },
      "execution_count": null,
      "outputs": []
    },
    {
      "cell_type": "markdown",
      "source": [
        "lets take Learning rate as  0.1"
      ],
      "metadata": {
        "id": "CoA83ZlB6aCg"
      }
    },
    {
      "cell_type": "code",
      "source": [
        "lrate  = 0.1\n",
        "\n",
        "step_size = loss_slope*lrate\n",
        "step_size"
      ],
      "metadata": {
        "id": "Fo_nYxKp6aCg"
      },
      "execution_count": null,
      "outputs": []
    },
    {
      "cell_type": "markdown",
      "source": [
        "calculating the new intercept"
      ],
      "metadata": {
        "id": "xI_CWOLu6aCh"
      }
    },
    {
      "cell_type": "code",
      "source": [
        "b = b - step_size\n",
        "b"
      ],
      "metadata": {
        "id": "W2m7Xw1i6aCh"
      },
      "execution_count": null,
      "outputs": []
    },
    {
      "cell_type": "markdown",
      "source": [
        "Plotting the Graph"
      ],
      "metadata": {
        "id": "XJJxMUoW6aCh"
      }
    },
    {
      "cell_type": "code",
      "source": [
        "y_pred4=((78.35 * X) + b ).reshape(4)\n",
        "\n",
        "plt.scatter(X, y)\n",
        "plt.plot(X, lr.predict(X) , color='red'  ,label='OLS')   # calculating using formula\n",
        "plt.plot(X , y_pred , color='black' , label='b =  0')    # calculating having b = 0\n",
        "\n",
        "\n",
        "plt.plot(X , y_pred4 , color='blue' , label='b = {}'.format(b))    # calculating doing gradient descent on b changing the value of b\n",
        "plt.legend()\n",
        "\n",
        "plt.show()"
      ],
      "metadata": {
        "id": "iLBtFPdS6aCh"
      },
      "execution_count": null,
      "outputs": []
    },
    {
      "cell_type": "markdown",
      "source": [
        "OLS WAS ALSO 26.15 AND AFTER 4 ITERATION OUR VALUE OF B BECAME 26.15"
      ],
      "metadata": {
        "id": "2F4N3i9L6i-Q"
      }
    }
  ]
}